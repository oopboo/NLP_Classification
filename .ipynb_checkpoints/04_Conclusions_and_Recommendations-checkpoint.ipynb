{
 "cells": [
  {
   "cell_type": "markdown",
   "metadata": {},
   "source": [
    "# Conclusions"
   ]
  },
  {
   "cell_type": "markdown",
   "metadata": {},
   "source": [
    "For this project, a text transformer, TfidfVectorizer, was used with the classifiers MultinomialNB, RandomTreesClassifier, and LogisticRegression. Out of these classifiers, the following test accuracy scores were observed: 0.9245, 0.8209, and 0.9252. Tfidf vectorizer and logistic regression had the highest accuracy score with 0.9252. This means that about 92.5% of the data is accounted for in this model. A confusion matrix was made to display the classification predictions between the subreddits **Oxygennotincluded** and **RimWorld**."
   ]
  },
  {
   "cell_type": "markdown",
   "metadata": {},
   "source": [
    "<img src=\"./images/confusion_matrix.png\" style=\"width: 500px;\"/>"
   ]
  },
  {
   "cell_type": "markdown",
   "metadata": {},
   "source": [
    "As can be seen in confusion matrix, the model had a slightly more difficult time accurately predicting the subreddit Oxygen Not Included. It inaccurately predicted the subreddit RimWorld 186 when the post was actually from the Oxygen Not Included subreddit. \n",
    "\n",
    "Knowing the game _Oxygen Not Included_, it is interesting to see the top words used in the **RimWorld** subreddit posts, as some of these words can also be attributed to _Oxygen Not Included_. Words like \"mod, colony, and auto\" can also be used to describe aspects on _Oxygen Not Included_. "
   ]
  },
  {
   "cell_type": "markdown",
   "metadata": {},
   "source": [
    "<img src=\"./images/RimWorld_freq_words.png\" style=\"width: 600px;\"/>"
   ]
  },
  {
   "cell_type": "markdown",
   "metadata": {},
   "source": [
    "Lastly, when comparing the compound score using VADER sentiment analysis, it can be seen that the **Oxgyennotincluded** subreddit posts have a much more positive sentiment score than the **RimWorld** subreddit posts. "
   ]
  },
  {
   "cell_type": "markdown",
   "metadata": {},
   "source": [
    "<img src=\"./images/sentiment_scores.png\" style=\"width: 500px;\"/>"
   ]
  },
  {
   "cell_type": "markdown",
   "metadata": {},
   "source": [
    "In conclusion, as investors who are interested in how well a game is being received by the public, _Oxygen Not Included_ has the most positive sentiments over _RimWorld_ despite the gaming community recommending _RimWorld_ as a similar game to _Oxygen Not Included_ and vice versa. Future comparisons and analytics may delve into gross profits and sales between the two games in addition to this public sentiment analysis."
   ]
  }
 ],
 "metadata": {
  "kernelspec": {
   "display_name": "Python 3",
   "language": "python",
   "name": "python3"
  },
  "language_info": {
   "codemirror_mode": {
    "name": "ipython",
    "version": 3
   },
   "file_extension": ".py",
   "mimetype": "text/x-python",
   "name": "python",
   "nbconvert_exporter": "python",
   "pygments_lexer": "ipython3",
   "version": "3.7.6"
  }
 },
 "nbformat": 4,
 "nbformat_minor": 4
}
