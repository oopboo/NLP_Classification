{
 "cells": [
  {
   "cell_type": "markdown",
   "metadata": {},
   "source": [
    "# Table of Contents\n",
    "\n",
    "1. [Imports](#Imports)\n",
    "2. [Data Cleaning](#Data-Cleaning)"
   ]
  },
  {
   "cell_type": "markdown",
   "metadata": {},
   "source": [
    "# Imports"
   ]
  },
  {
   "cell_type": "code",
   "execution_count": 1,
   "metadata": {},
   "outputs": [],
   "source": [
    "import pandas as pd\n",
    "import numpy as np\n",
    "import matplotlib.pyplot as plt\n",
    "import requests\n",
    "import time\n",
    "from datetime import datetime"
   ]
  },
  {
   "cell_type": "code",
   "execution_count": 2,
   "metadata": {},
   "outputs": [],
   "source": [
    "def get_reddit(subreddit, count_size, batch_size):\n",
    "    count = 0\n",
    "    reddit_posts = []\n",
    "    \n",
    "    for i in range(1): #Prime the first set of 100 posts to bring in \"before\" param in the while loop\n",
    "        url = \"https://api.pushshift.io/reddit/search/submission\"\n",
    "        params = {\n",
    "            'subreddit': subreddit,\n",
    "            'size': batch_size}\n",
    "\n",
    "        res = requests.get(url, params)\n",
    "        data = res.json()\n",
    "        posts = data['data']\n",
    "\n",
    "        for i in range(batch_size):\n",
    "            single = posts[i]\n",
    "            reddit_posts.append(single)\n",
    "            \n",
    "        count += 1 #Count now equals 1 for the first set of 100 posts\n",
    "    \n",
    "        while count < count_size:\n",
    "        # While loop will bring in count_size sets of 100 posts each. reddit_posts = count_size * 100\n",
    "            params2 = {\n",
    "                'subreddit': subreddit,\n",
    "                'size': batch_size,\n",
    "                'before': int(reddit_posts[-1]['created_utc'])}\n",
    "\n",
    "            res2 = requests.get(url, params2)\n",
    "            data2 = res2.json()\n",
    "            posts2 = data2['data']\n",
    "\n",
    "            for i in range(batch_size):\n",
    "                single2 = posts2[i]\n",
    "                reddit_posts.append(single2)\n",
    "\n",
    "            #progress printouts\n",
    "            #Code adapted from global lect: NLP I\n",
    "            if (count + 1) % 20 == 0:\n",
    "                print(f'Round {count + 1} of {count_size}') #printing checks to help visualize that the fxn is working\n",
    "            count += 1\n",
    "            time.sleep(2)\n",
    "    \n",
    "    print(\"Creating dataframe...\")\n",
    "    df = pd.DataFrame(data = reddit_posts)      \n",
    "    df = df[['subreddit', 'author', 'title', 'selftext', 'score', 'created_utc']]\n",
    "\n",
    "    \n",
    "    print(\"Done\")\n",
    "    return df\n",
    "\n",
    "# Returns DataFrame. Set equal to a variable!"
   ]
  },
  {
   "cell_type": "code",
   "execution_count": 3,
   "metadata": {},
   "outputs": [
    {
     "name": "stdout",
     "output_type": "stream",
     "text": [
      "Round 20 of 150\n",
      "Round 40 of 150\n",
      "Round 60 of 150\n",
      "Round 80 of 150\n",
      "Round 100 of 150\n",
      "Round 120 of 150\n",
      "Round 140 of 150\n",
      "Creating dataframe...\n",
      "Done\n",
      "CPU times: user 4.36 s, sys: 362 ms, total: 4.72 s\n",
      "Wall time: 9min 29s\n"
     ]
    }
   ],
   "source": [
    "%%time\n",
    "df_oni = get_reddit('Oxygennotincluded', 150, 100) #10_000 posts"
   ]
  },
  {
   "cell_type": "code",
   "execution_count": 4,
   "metadata": {},
   "outputs": [
    {
     "name": "stdout",
     "output_type": "stream",
     "text": [
      "Round 20 of 150\n",
      "Round 40 of 150\n",
      "Round 60 of 150\n",
      "Round 80 of 150\n",
      "Round 100 of 150\n",
      "Round 120 of 150\n",
      "Round 140 of 150\n",
      "Creating dataframe...\n",
      "Done\n",
      "CPU times: user 4.51 s, sys: 322 ms, total: 4.84 s\n",
      "Wall time: 9min 7s\n"
     ]
    }
   ],
   "source": [
    "%%time\n",
    "df_rw = get_reddit('RimWorld', 150, 100) #10_000 posts\n"
   ]
  },
  {
   "cell_type": "code",
   "execution_count": 5,
   "metadata": {},
   "outputs": [
    {
     "name": "stdout",
     "output_type": "stream",
     "text": [
      "(15000, 6)\n"
     ]
    },
    {
     "data": {
      "text/html": [
       "<div>\n",
       "<style scoped>\n",
       "    .dataframe tbody tr th:only-of-type {\n",
       "        vertical-align: middle;\n",
       "    }\n",
       "\n",
       "    .dataframe tbody tr th {\n",
       "        vertical-align: top;\n",
       "    }\n",
       "\n",
       "    .dataframe thead th {\n",
       "        text-align: right;\n",
       "    }\n",
       "</style>\n",
       "<table border=\"1\" class=\"dataframe\">\n",
       "  <thead>\n",
       "    <tr style=\"text-align: right;\">\n",
       "      <th></th>\n",
       "      <th>subreddit</th>\n",
       "      <th>author</th>\n",
       "      <th>title</th>\n",
       "      <th>selftext</th>\n",
       "      <th>score</th>\n",
       "      <th>created_utc</th>\n",
       "    </tr>\n",
       "  </thead>\n",
       "  <tbody>\n",
       "    <tr>\n",
       "      <th>0</th>\n",
       "      <td>Oxygennotincluded</td>\n",
       "      <td>TrumpByPublicOpinion</td>\n",
       "      <td>Mod Idea - In game Programmable Logic Controllers</td>\n",
       "      <td>Hey everyone,\\n\\nBeen playing the game some ti...</td>\n",
       "      <td>1</td>\n",
       "      <td>1599762597</td>\n",
       "    </tr>\n",
       "    <tr>\n",
       "      <th>1</th>\n",
       "      <td>Oxygennotincluded</td>\n",
       "      <td>pannaEmilka</td>\n",
       "      <td>It's ugly, but it's mine ❤️ and it's working!</td>\n",
       "      <td></td>\n",
       "      <td>1</td>\n",
       "      <td>1599762459</td>\n",
       "    </tr>\n",
       "    <tr>\n",
       "      <th>2</th>\n",
       "      <td>Oxygennotincluded</td>\n",
       "      <td>The_Mr_Tact</td>\n",
       "      <td>Get to work bum! :D</td>\n",
       "      <td></td>\n",
       "      <td>1</td>\n",
       "      <td>1599752105</td>\n",
       "    </tr>\n",
       "    <tr>\n",
       "      <th>3</th>\n",
       "      <td>Oxygennotincluded</td>\n",
       "      <td>DaHedgehog27</td>\n",
       "      <td>Mod Request - Removing Construction Supply fro...</td>\n",
       "      <td>I have zero clue when it comes to modding this...</td>\n",
       "      <td>1</td>\n",
       "      <td>1599752065</td>\n",
       "    </tr>\n",
       "    <tr>\n",
       "      <th>4</th>\n",
       "      <td>Oxygennotincluded</td>\n",
       "      <td>spiralmadness</td>\n",
       "      <td>Cycle 1337: Solo dupe all (possible) achievements</td>\n",
       "      <td></td>\n",
       "      <td>1</td>\n",
       "      <td>1599750841</td>\n",
       "    </tr>\n",
       "  </tbody>\n",
       "</table>\n",
       "</div>"
      ],
      "text/plain": [
       "           subreddit                author  \\\n",
       "0  Oxygennotincluded  TrumpByPublicOpinion   \n",
       "1  Oxygennotincluded           pannaEmilka   \n",
       "2  Oxygennotincluded           The_Mr_Tact   \n",
       "3  Oxygennotincluded          DaHedgehog27   \n",
       "4  Oxygennotincluded         spiralmadness   \n",
       "\n",
       "                                               title  \\\n",
       "0  Mod Idea - In game Programmable Logic Controllers   \n",
       "1      It's ugly, but it's mine ❤️ and it's working!   \n",
       "2                                Get to work bum! :D   \n",
       "3  Mod Request - Removing Construction Supply fro...   \n",
       "4  Cycle 1337: Solo dupe all (possible) achievements   \n",
       "\n",
       "                                            selftext  score  created_utc  \n",
       "0  Hey everyone,\\n\\nBeen playing the game some ti...      1   1599762597  \n",
       "1                                                         1   1599762459  \n",
       "2                                                         1   1599752105  \n",
       "3  I have zero clue when it comes to modding this...      1   1599752065  \n",
       "4                                                         1   1599750841  "
      ]
     },
     "execution_count": 5,
     "metadata": {},
     "output_type": "execute_result"
    }
   ],
   "source": [
    "print(df_oni.shape)\n",
    "df_oni.head()"
   ]
  },
  {
   "cell_type": "code",
   "execution_count": 6,
   "metadata": {},
   "outputs": [
    {
     "name": "stdout",
     "output_type": "stream",
     "text": [
      "(15000, 6)\n"
     ]
    },
    {
     "data": {
      "text/html": [
       "<div>\n",
       "<style scoped>\n",
       "    .dataframe tbody tr th:only-of-type {\n",
       "        vertical-align: middle;\n",
       "    }\n",
       "\n",
       "    .dataframe tbody tr th {\n",
       "        vertical-align: top;\n",
       "    }\n",
       "\n",
       "    .dataframe thead th {\n",
       "        text-align: right;\n",
       "    }\n",
       "</style>\n",
       "<table border=\"1\" class=\"dataframe\">\n",
       "  <thead>\n",
       "    <tr style=\"text-align: right;\">\n",
       "      <th></th>\n",
       "      <th>subreddit</th>\n",
       "      <th>author</th>\n",
       "      <th>title</th>\n",
       "      <th>selftext</th>\n",
       "      <th>score</th>\n",
       "      <th>created_utc</th>\n",
       "    </tr>\n",
       "  </thead>\n",
       "  <tbody>\n",
       "    <tr>\n",
       "      <th>0</th>\n",
       "      <td>RimWorld</td>\n",
       "      <td>Liftedsafe01</td>\n",
       "      <td>Patricia Hall vjacheslavgerasimov9</td>\n",
       "      <td>[removed]</td>\n",
       "      <td>1</td>\n",
       "      <td>1599778395</td>\n",
       "    </tr>\n",
       "    <tr>\n",
       "      <th>1</th>\n",
       "      <td>RimWorld</td>\n",
       "      <td>_SnooPeppers_</td>\n",
       "      <td>They start so young these days...</td>\n",
       "      <td></td>\n",
       "      <td>1</td>\n",
       "      <td>1599777668</td>\n",
       "    </tr>\n",
       "    <tr>\n",
       "      <th>2</th>\n",
       "      <td>RimWorld</td>\n",
       "      <td>Tango-454</td>\n",
       "      <td>hey i found your rimworld tribal gameplay</td>\n",
       "      <td></td>\n",
       "      <td>1</td>\n",
       "      <td>1599776037</td>\n",
       "    </tr>\n",
       "    <tr>\n",
       "      <th>3</th>\n",
       "      <td>RimWorld</td>\n",
       "      <td>HDnfbp</td>\n",
       "      <td>Just came back to the game, randy send me a go...</td>\n",
       "      <td>&amp;amp;#x200B;\\n\\nhttps://preview.redd.it/1ce5za...</td>\n",
       "      <td>1</td>\n",
       "      <td>1599775881</td>\n",
       "    </tr>\n",
       "    <tr>\n",
       "      <th>4</th>\n",
       "      <td>RimWorld</td>\n",
       "      <td>Ecco_Shack</td>\n",
       "      <td>Help, I'm scared....</td>\n",
       "      <td></td>\n",
       "      <td>1</td>\n",
       "      <td>1599775728</td>\n",
       "    </tr>\n",
       "  </tbody>\n",
       "</table>\n",
       "</div>"
      ],
      "text/plain": [
       "  subreddit         author                                              title  \\\n",
       "0  RimWorld   Liftedsafe01                 Patricia Hall vjacheslavgerasimov9   \n",
       "1  RimWorld  _SnooPeppers_                  They start so young these days...   \n",
       "2  RimWorld      Tango-454          hey i found your rimworld tribal gameplay   \n",
       "3  RimWorld         HDnfbp  Just came back to the game, randy send me a go...   \n",
       "4  RimWorld     Ecco_Shack                               Help, I'm scared....   \n",
       "\n",
       "                                            selftext  score  created_utc  \n",
       "0                                          [removed]      1   1599778395  \n",
       "1                                                         1   1599777668  \n",
       "2                                                         1   1599776037  \n",
       "3  &amp;#x200B;\\n\\nhttps://preview.redd.it/1ce5za...      1   1599775881  \n",
       "4                                                         1   1599775728  "
      ]
     },
     "execution_count": 6,
     "metadata": {},
     "output_type": "execute_result"
    }
   ],
   "source": [
    "print(df_rw.shape)\n",
    "df_rw.head()"
   ]
  },
  {
   "cell_type": "code",
   "execution_count": 7,
   "metadata": {},
   "outputs": [],
   "source": [
    "df = pd.concat([df_oni.copy(), df_rw.copy()])"
   ]
  },
  {
   "cell_type": "code",
   "execution_count": 8,
   "metadata": {},
   "outputs": [
    {
     "data": {
      "text/plain": [
       "(30000, 6)"
      ]
     },
     "execution_count": 8,
     "metadata": {},
     "output_type": "execute_result"
    }
   ],
   "source": [
    "df.shape"
   ]
  },
  {
   "cell_type": "markdown",
   "metadata": {},
   "source": [
    "# Data Cleaning"
   ]
  },
  {
   "cell_type": "code",
   "execution_count": 9,
   "metadata": {},
   "outputs": [],
   "source": [
    "def clean_selftext(cell):\n",
    "    if cell == \"\":\n",
    "        return np.nan\n",
    "    elif cell == '[removed]':\n",
    "        return np.nan\n",
    "    elif cell == '[deleted]':\n",
    "        return np.nan\n",
    "    else:\n",
    "        return cell"
   ]
  },
  {
   "cell_type": "code",
   "execution_count": 10,
   "metadata": {},
   "outputs": [],
   "source": [
    "df['selftext'] = df['selftext'].map(clean_selftext)"
   ]
  },
  {
   "cell_type": "code",
   "execution_count": 11,
   "metadata": {},
   "outputs": [],
   "source": [
    "def get_time(utc_cell):\n",
    "    if utc_cell != np.nan:\n",
    "        return str(datetime.fromtimestamp(utc_cell))\n",
    "        #code adapted from https://www.programiz.com/python-programming/datetime/timestamp-datetime\n",
    "    else:\n",
    "        return np.nan"
   ]
  },
  {
   "cell_type": "code",
   "execution_count": 12,
   "metadata": {},
   "outputs": [],
   "source": [
    "df['eastern_time'] = df['created_utc'].map(get_time)"
   ]
  },
  {
   "cell_type": "code",
   "execution_count": 13,
   "metadata": {},
   "outputs": [
    {
     "data": {
      "text/plain": [
       "subreddit           0\n",
       "author              0\n",
       "title               0\n",
       "selftext        13423\n",
       "score               0\n",
       "created_utc         0\n",
       "eastern_time        0\n",
       "dtype: int64"
      ]
     },
     "execution_count": 13,
     "metadata": {},
     "output_type": "execute_result"
    }
   ],
   "source": [
    "df.isna().sum()"
   ]
  },
  {
   "cell_type": "code",
   "execution_count": 14,
   "metadata": {},
   "outputs": [],
   "source": [
    "df.dropna(inplace = True)"
   ]
  },
  {
   "cell_type": "code",
   "execution_count": 15,
   "metadata": {},
   "outputs": [
    {
     "name": "stdout",
     "output_type": "stream",
     "text": [
      "(16577, 7)\n"
     ]
    },
    {
     "data": {
      "text/plain": [
       "subreddit       0\n",
       "author          0\n",
       "title           0\n",
       "selftext        0\n",
       "score           0\n",
       "created_utc     0\n",
       "eastern_time    0\n",
       "dtype: int64"
      ]
     },
     "execution_count": 15,
     "metadata": {},
     "output_type": "execute_result"
    }
   ],
   "source": [
    "print(df.shape)\n",
    "df.isna().sum()"
   ]
  },
  {
   "cell_type": "code",
   "execution_count": 16,
   "metadata": {},
   "outputs": [
    {
     "data": {
      "text/html": [
       "<div>\n",
       "<style scoped>\n",
       "    .dataframe tbody tr th:only-of-type {\n",
       "        vertical-align: middle;\n",
       "    }\n",
       "\n",
       "    .dataframe tbody tr th {\n",
       "        vertical-align: top;\n",
       "    }\n",
       "\n",
       "    .dataframe thead th {\n",
       "        text-align: right;\n",
       "    }\n",
       "</style>\n",
       "<table border=\"1\" class=\"dataframe\">\n",
       "  <thead>\n",
       "    <tr style=\"text-align: right;\">\n",
       "      <th></th>\n",
       "      <th>subreddit</th>\n",
       "      <th>author</th>\n",
       "      <th>title</th>\n",
       "      <th>selftext</th>\n",
       "      <th>score</th>\n",
       "      <th>created_utc</th>\n",
       "      <th>eastern_time</th>\n",
       "    </tr>\n",
       "  </thead>\n",
       "  <tbody>\n",
       "    <tr>\n",
       "      <th>0</th>\n",
       "      <td>Oxygennotincluded</td>\n",
       "      <td>TrumpByPublicOpinion</td>\n",
       "      <td>Mod Idea - In game Programmable Logic Controllers</td>\n",
       "      <td>Hey everyone,\\n\\nBeen playing the game some ti...</td>\n",
       "      <td>1</td>\n",
       "      <td>1599762597</td>\n",
       "      <td>2020-09-10 14:29:57</td>\n",
       "    </tr>\n",
       "    <tr>\n",
       "      <th>3</th>\n",
       "      <td>Oxygennotincluded</td>\n",
       "      <td>DaHedgehog27</td>\n",
       "      <td>Mod Request - Removing Construction Supply fro...</td>\n",
       "      <td>I have zero clue when it comes to modding this...</td>\n",
       "      <td>1</td>\n",
       "      <td>1599752065</td>\n",
       "      <td>2020-09-10 11:34:25</td>\n",
       "    </tr>\n",
       "    <tr>\n",
       "      <th>5</th>\n",
       "      <td>Oxygennotincluded</td>\n",
       "      <td>KittehNevynette</td>\n",
       "      <td>Fertiliser flatulence power question. How much?</td>\n",
       "      <td>I saw a YT video where fertiliser synthesisers...</td>\n",
       "      <td>1</td>\n",
       "      <td>1599745896</td>\n",
       "      <td>2020-09-10 09:51:36</td>\n",
       "    </tr>\n",
       "    <tr>\n",
       "      <th>7</th>\n",
       "      <td>Oxygennotincluded</td>\n",
       "      <td>Turalyon135</td>\n",
       "      <td>Automation question</td>\n",
       "      <td>Is there a way using a gate or any kind to hav...</td>\n",
       "      <td>1</td>\n",
       "      <td>1599737435</td>\n",
       "      <td>2020-09-10 07:30:35</td>\n",
       "    </tr>\n",
       "    <tr>\n",
       "      <th>8</th>\n",
       "      <td>Oxygennotincluded</td>\n",
       "      <td>FoxRealistic3370</td>\n",
       "      <td>Perseverance or Experience</td>\n",
       "      <td>SOOOOO im on about cycle 1500 of my first base...</td>\n",
       "      <td>1</td>\n",
       "      <td>1599730988</td>\n",
       "      <td>2020-09-10 05:43:08</td>\n",
       "    </tr>\n",
       "  </tbody>\n",
       "</table>\n",
       "</div>"
      ],
      "text/plain": [
       "           subreddit                author  \\\n",
       "0  Oxygennotincluded  TrumpByPublicOpinion   \n",
       "3  Oxygennotincluded          DaHedgehog27   \n",
       "5  Oxygennotincluded       KittehNevynette   \n",
       "7  Oxygennotincluded           Turalyon135   \n",
       "8  Oxygennotincluded      FoxRealistic3370   \n",
       "\n",
       "                                               title  \\\n",
       "0  Mod Idea - In game Programmable Logic Controllers   \n",
       "3  Mod Request - Removing Construction Supply fro...   \n",
       "5    Fertiliser flatulence power question. How much?   \n",
       "7                                Automation question   \n",
       "8                         Perseverance or Experience   \n",
       "\n",
       "                                            selftext  score  created_utc  \\\n",
       "0  Hey everyone,\\n\\nBeen playing the game some ti...      1   1599762597   \n",
       "3  I have zero clue when it comes to modding this...      1   1599752065   \n",
       "5  I saw a YT video where fertiliser synthesisers...      1   1599745896   \n",
       "7  Is there a way using a gate or any kind to hav...      1   1599737435   \n",
       "8  SOOOOO im on about cycle 1500 of my first base...      1   1599730988   \n",
       "\n",
       "          eastern_time  \n",
       "0  2020-09-10 14:29:57  \n",
       "3  2020-09-10 11:34:25  \n",
       "5  2020-09-10 09:51:36  \n",
       "7  2020-09-10 07:30:35  \n",
       "8  2020-09-10 05:43:08  "
      ]
     },
     "execution_count": 16,
     "metadata": {},
     "output_type": "execute_result"
    }
   ],
   "source": [
    "df.head()"
   ]
  },
  {
   "cell_type": "code",
   "execution_count": 17,
   "metadata": {},
   "outputs": [],
   "source": [
    "df.reset_index(drop=True, inplace=True)"
   ]
  },
  {
   "cell_type": "code",
   "execution_count": 18,
   "metadata": {},
   "outputs": [],
   "source": [
    "df['post_word_count'] = [len(df['selftext'][i].split()) for i in range(0, len(df['selftext']))]"
   ]
  },
  {
   "cell_type": "code",
   "execution_count": 19,
   "metadata": {},
   "outputs": [],
   "source": [
    "df['title_word_count'] = [len(df['title'][i].split()) for i in range(0, len(df['title']))]"
   ]
  },
  {
   "cell_type": "code",
   "execution_count": 20,
   "metadata": {},
   "outputs": [
    {
     "data": {
      "text/html": [
       "<div>\n",
       "<style scoped>\n",
       "    .dataframe tbody tr th:only-of-type {\n",
       "        vertical-align: middle;\n",
       "    }\n",
       "\n",
       "    .dataframe tbody tr th {\n",
       "        vertical-align: top;\n",
       "    }\n",
       "\n",
       "    .dataframe thead th {\n",
       "        text-align: right;\n",
       "    }\n",
       "</style>\n",
       "<table border=\"1\" class=\"dataframe\">\n",
       "  <thead>\n",
       "    <tr style=\"text-align: right;\">\n",
       "      <th></th>\n",
       "      <th>subreddit</th>\n",
       "      <th>author</th>\n",
       "      <th>title</th>\n",
       "      <th>selftext</th>\n",
       "      <th>score</th>\n",
       "      <th>created_utc</th>\n",
       "      <th>eastern_time</th>\n",
       "      <th>post_word_count</th>\n",
       "      <th>title_word_count</th>\n",
       "    </tr>\n",
       "  </thead>\n",
       "  <tbody>\n",
       "    <tr>\n",
       "      <th>0</th>\n",
       "      <td>Oxygennotincluded</td>\n",
       "      <td>TrumpByPublicOpinion</td>\n",
       "      <td>Mod Idea - In game Programmable Logic Controllers</td>\n",
       "      <td>Hey everyone,\\n\\nBeen playing the game some ti...</td>\n",
       "      <td>1</td>\n",
       "      <td>1599762597</td>\n",
       "      <td>2020-09-10 14:29:57</td>\n",
       "      <td>108</td>\n",
       "      <td>8</td>\n",
       "    </tr>\n",
       "    <tr>\n",
       "      <th>1</th>\n",
       "      <td>Oxygennotincluded</td>\n",
       "      <td>DaHedgehog27</td>\n",
       "      <td>Mod Request - Removing Construction Supply fro...</td>\n",
       "      <td>I have zero clue when it comes to modding this...</td>\n",
       "      <td>1</td>\n",
       "      <td>1599752065</td>\n",
       "      <td>2020-09-10 11:34:25</td>\n",
       "      <td>104</td>\n",
       "      <td>8</td>\n",
       "    </tr>\n",
       "    <tr>\n",
       "      <th>2</th>\n",
       "      <td>Oxygennotincluded</td>\n",
       "      <td>KittehNevynette</td>\n",
       "      <td>Fertiliser flatulence power question. How much?</td>\n",
       "      <td>I saw a YT video where fertiliser synthesisers...</td>\n",
       "      <td>1</td>\n",
       "      <td>1599745896</td>\n",
       "      <td>2020-09-10 09:51:36</td>\n",
       "      <td>159</td>\n",
       "      <td>6</td>\n",
       "    </tr>\n",
       "    <tr>\n",
       "      <th>3</th>\n",
       "      <td>Oxygennotincluded</td>\n",
       "      <td>Turalyon135</td>\n",
       "      <td>Automation question</td>\n",
       "      <td>Is there a way using a gate or any kind to hav...</td>\n",
       "      <td>1</td>\n",
       "      <td>1599737435</td>\n",
       "      <td>2020-09-10 07:30:35</td>\n",
       "      <td>148</td>\n",
       "      <td>2</td>\n",
       "    </tr>\n",
       "    <tr>\n",
       "      <th>4</th>\n",
       "      <td>Oxygennotincluded</td>\n",
       "      <td>FoxRealistic3370</td>\n",
       "      <td>Perseverance or Experience</td>\n",
       "      <td>SOOOOO im on about cycle 1500 of my first base...</td>\n",
       "      <td>1</td>\n",
       "      <td>1599730988</td>\n",
       "      <td>2020-09-10 05:43:08</td>\n",
       "      <td>294</td>\n",
       "      <td>3</td>\n",
       "    </tr>\n",
       "  </tbody>\n",
       "</table>\n",
       "</div>"
      ],
      "text/plain": [
       "           subreddit                author  \\\n",
       "0  Oxygennotincluded  TrumpByPublicOpinion   \n",
       "1  Oxygennotincluded          DaHedgehog27   \n",
       "2  Oxygennotincluded       KittehNevynette   \n",
       "3  Oxygennotincluded           Turalyon135   \n",
       "4  Oxygennotincluded      FoxRealistic3370   \n",
       "\n",
       "                                               title  \\\n",
       "0  Mod Idea - In game Programmable Logic Controllers   \n",
       "1  Mod Request - Removing Construction Supply fro...   \n",
       "2    Fertiliser flatulence power question. How much?   \n",
       "3                                Automation question   \n",
       "4                         Perseverance or Experience   \n",
       "\n",
       "                                            selftext  score  created_utc  \\\n",
       "0  Hey everyone,\\n\\nBeen playing the game some ti...      1   1599762597   \n",
       "1  I have zero clue when it comes to modding this...      1   1599752065   \n",
       "2  I saw a YT video where fertiliser synthesisers...      1   1599745896   \n",
       "3  Is there a way using a gate or any kind to hav...      1   1599737435   \n",
       "4  SOOOOO im on about cycle 1500 of my first base...      1   1599730988   \n",
       "\n",
       "          eastern_time  post_word_count  title_word_count  \n",
       "0  2020-09-10 14:29:57              108                 8  \n",
       "1  2020-09-10 11:34:25              104                 8  \n",
       "2  2020-09-10 09:51:36              159                 6  \n",
       "3  2020-09-10 07:30:35              148                 2  \n",
       "4  2020-09-10 05:43:08              294                 3  "
      ]
     },
     "execution_count": 20,
     "metadata": {},
     "output_type": "execute_result"
    }
   ],
   "source": [
    "df.head()"
   ]
  },
  {
   "cell_type": "code",
   "execution_count": 22,
   "metadata": {},
   "outputs": [],
   "source": [
    "# df.to_csv('./data/subreddits.csv', index=False)"
   ]
  },
  {
   "cell_type": "code",
   "execution_count": null,
   "metadata": {},
   "outputs": [],
   "source": []
  }
 ],
 "metadata": {
  "kernelspec": {
   "display_name": "Python 3",
   "language": "python",
   "name": "python3"
  },
  "language_info": {
   "codemirror_mode": {
    "name": "ipython",
    "version": 3
   },
   "file_extension": ".py",
   "mimetype": "text/x-python",
   "name": "python",
   "nbconvert_exporter": "python",
   "pygments_lexer": "ipython3",
   "version": "3.7.6"
  }
 },
 "nbformat": 4,
 "nbformat_minor": 4
}
